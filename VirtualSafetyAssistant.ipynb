{
 "cells": [
  {
   "cell_type": "markdown",
   "id": "7db58530",
   "metadata": {
    "toc": true
   },
   "source": [
    "<h1>Table of Contents<span class=\"tocSkip\"></span></h1>\n",
    "<div class=\"toc\"><ul class=\"toc-item\"><li><span><a href=\"#Virtual-Safety-Assistant\" data-toc-modified-id=\"Virtual-Safety-Assistant-1\"><span class=\"toc-item-num\">1&nbsp;&nbsp;</span>Virtual Safety Assistant</a></span><ul class=\"toc-item\"><li><span><a href=\"#PubChem-API-python-Wrapper---PubChemPy\" data-toc-modified-id=\"PubChem-API-python-Wrapper---PubChemPy-1.1\"><span class=\"toc-item-num\">1.1&nbsp;&nbsp;</span>PubChem API python Wrapper - PubChemPy</a></span><ul class=\"toc-item\"><li><span><a href=\"#Get-the-data-as-a-df\" data-toc-modified-id=\"Get-the-data-as-a-df-1.1.1\"><span class=\"toc-item-num\">1.1.1&nbsp;&nbsp;</span>Get the data as a df</a></span></li><li><span><a href=\"#return-the-url\" data-toc-modified-id=\"return-the-url-1.1.2\"><span class=\"toc-item-num\">1.1.2&nbsp;&nbsp;</span>return the url</a></span></li></ul></li></ul></li></ul></div>"
   ]
  },
  {
   "cell_type": "markdown",
   "id": "0437065b",
   "metadata": {
    "ExecuteTime": {
     "end_time": "2022-09-22T10:08:30.580956Z",
     "start_time": "2022-09-22T10:08:30.578523Z"
    }
   },
   "source": [
    "# Virtual Safety Assistant"
   ]
  },
  {
   "cell_type": "markdown",
   "id": "79e9680d",
   "metadata": {
    "ExecuteTime": {
     "end_time": "2022-09-22T10:09:03.067590Z",
     "start_time": "2022-09-22T10:09:03.062461Z"
    }
   },
   "source": [
    "Given the name of a list of chemicals, this will automatically return the relevant info you need for your safety assessment (safety codes, molecular weight, etc)"
   ]
  },
  {
   "cell_type": "markdown",
   "id": "71da5f71",
   "metadata": {
    "ExecuteTime": {
     "end_time": "2022-09-22T10:09:43.121703Z",
     "start_time": "2022-09-22T10:09:43.119294Z"
    }
   },
   "source": [
    "## PubChem API python Wrapper - PubChemPy "
   ]
  },
  {
   "cell_type": "code",
   "execution_count": 26,
   "id": "77484756",
   "metadata": {
    "ExecuteTime": {
     "end_time": "2022-09-22T10:40:26.650568Z",
     "start_time": "2022-09-22T10:40:26.647971Z"
    }
   },
   "outputs": [],
   "source": [
    "import pubchempy as pcp\n",
    "import pandas as pddf1 = pcp.get_compounds('C20H41Br', 'formula', as_dataframe=True)"
   ]
  },
  {
   "cell_type": "code",
   "execution_count": 2,
   "id": "8a300a57",
   "metadata": {
    "ExecuteTime": {
     "end_time": "2022-09-22T10:11:03.477425Z",
     "start_time": "2022-09-22T10:11:02.863512Z"
    }
   },
   "outputs": [],
   "source": [
    "comp = Compound.from_cid(1423)"
   ]
  },
  {
   "cell_type": "code",
   "execution_count": 3,
   "id": "e010f7ce",
   "metadata": {
    "ExecuteTime": {
     "end_time": "2022-09-22T10:11:08.174338Z",
     "start_time": "2022-09-22T10:11:08.168915Z"
    }
   },
   "outputs": [
    {
     "name": "stdout",
     "output_type": "stream",
     "text": [
      "CCCCCCCNC1CCCC1CCCCCCC(=O)O\n"
     ]
    }
   ],
   "source": [
    "print(comp.isomeric_smiles)"
   ]
  },
  {
   "cell_type": "code",
   "execution_count": null,
   "id": "25011d52",
   "metadata": {},
   "outputs": [],
   "source": [
    ", 'Complexity','ConformerModelRMSD3D',"
   ]
  },
  {
   "cell_type": "code",
   "execution_count": null,
   "id": "6014e810",
   "metadata": {},
   "outputs": [],
   "source": []
  },
  {
   "cell_type": "code",
   "execution_count": 77,
   "id": "53b26ad5",
   "metadata": {
    "ExecuteTime": {
     "end_time": "2022-09-22T11:20:07.237581Z",
     "start_time": "2022-09-22T11:20:06.445832Z"
    }
   },
   "outputs": [],
   "source": [
    "comps = pcp.get_compounds('benzene', 'name')"
   ]
  },
  {
   "cell_type": "code",
   "execution_count": 69,
   "id": "5e0cee91",
   "metadata": {
    "ExecuteTime": {
     "end_time": "2022-09-22T11:00:26.849211Z",
     "start_time": "2022-09-22T11:00:26.843539Z"
    }
   },
   "outputs": [
    {
     "data": {
      "text/plain": [
       "Compound(8471)"
      ]
     },
     "execution_count": 69,
     "metadata": {},
     "output_type": "execute_result"
    }
   ],
   "source": [
    "comps[0]"
   ]
  },
  {
   "cell_type": "code",
   "execution_count": 71,
   "id": "58d716d3",
   "metadata": {
    "ExecuteTime": {
     "end_time": "2022-09-22T11:00:37.702791Z",
     "start_time": "2022-09-22T11:00:37.685031Z"
    }
   },
   "outputs": [
    {
     "data": {
      "text/plain": [
       "{'id': {'id': {'cid': 8471}},\n",
       " 'atoms': {'aid': [1,\n",
       "   2,\n",
       "   3,\n",
       "   4,\n",
       "   5,\n",
       "   6,\n",
       "   7,\n",
       "   8,\n",
       "   9,\n",
       "   10,\n",
       "   11,\n",
       "   12,\n",
       "   13,\n",
       "   14,\n",
       "   15,\n",
       "   16,\n",
       "   17,\n",
       "   18,\n",
       "   19,\n",
       "   20,\n",
       "   21,\n",
       "   22],\n",
       "  'element': [7,\n",
       "   6,\n",
       "   6,\n",
       "   6,\n",
       "   6,\n",
       "   6,\n",
       "   6,\n",
       "   1,\n",
       "   1,\n",
       "   1,\n",
       "   1,\n",
       "   1,\n",
       "   1,\n",
       "   1,\n",
       "   1,\n",
       "   1,\n",
       "   1,\n",
       "   1,\n",
       "   1,\n",
       "   1,\n",
       "   1,\n",
       "   1]},\n",
       " 'bonds': {'aid1': [1,\n",
       "   1,\n",
       "   1,\n",
       "   2,\n",
       "   2,\n",
       "   2,\n",
       "   3,\n",
       "   3,\n",
       "   3,\n",
       "   4,\n",
       "   4,\n",
       "   4,\n",
       "   5,\n",
       "   5,\n",
       "   5,\n",
       "   6,\n",
       "   6,\n",
       "   6,\n",
       "   7,\n",
       "   7,\n",
       "   7],\n",
       "  'aid2': [2,\n",
       "   3,\n",
       "   4,\n",
       "   5,\n",
       "   8,\n",
       "   9,\n",
       "   6,\n",
       "   10,\n",
       "   11,\n",
       "   7,\n",
       "   12,\n",
       "   13,\n",
       "   14,\n",
       "   15,\n",
       "   16,\n",
       "   17,\n",
       "   18,\n",
       "   19,\n",
       "   20,\n",
       "   21,\n",
       "   22],\n",
       "  'order': [1, 1, 1, 1, 1, 1, 1, 1, 1, 1, 1, 1, 1, 1, 1, 1, 1, 1, 1, 1, 1]},\n",
       " 'coords': [{'type': [1, 5, 255],\n",
       "   'aid': [1,\n",
       "    2,\n",
       "    3,\n",
       "    4,\n",
       "    5,\n",
       "    6,\n",
       "    7,\n",
       "    8,\n",
       "    9,\n",
       "    10,\n",
       "    11,\n",
       "    12,\n",
       "    13,\n",
       "    14,\n",
       "    15,\n",
       "    16,\n",
       "    17,\n",
       "    18,\n",
       "    19,\n",
       "    20,\n",
       "    21,\n",
       "    22],\n",
       "   'conformers': [{'x': [3.732,\n",
       "      4.5981,\n",
       "      2.866,\n",
       "      3.732,\n",
       "      5.4641,\n",
       "      2,\n",
       "      2.866,\n",
       "      4.9966,\n",
       "      4.1996,\n",
       "      3.2646,\n",
       "      2.4675,\n",
       "      3.9441,\n",
       "      4.3426,\n",
       "      5.1541,\n",
       "      6.001,\n",
       "      5.7741,\n",
       "      1.69,\n",
       "      1.4631,\n",
       "      2.31,\n",
       "      2.556,\n",
       "      2.3291,\n",
       "      3.176],\n",
       "     'y': [0.5,\n",
       "      1,\n",
       "      1,\n",
       "      -0.5,\n",
       "      0.5,\n",
       "      0.5,\n",
       "      -1,\n",
       "      1.475,\n",
       "      1.475,\n",
       "      1.475,\n",
       "      1.475,\n",
       "      -1.0826,\n",
       "      -0.3923,\n",
       "      -0.0369,\n",
       "      0.19,\n",
       "      1.0369,\n",
       "      1.0369,\n",
       "      0.19,\n",
       "      -0.0369,\n",
       "      -0.4631,\n",
       "      -1.31,\n",
       "      -1.5369]}]}],\n",
       " 'charge': 0,\n",
       " 'props': [{'urn': {'label': 'Compound',\n",
       "    'name': 'Canonicalized',\n",
       "    'datatype': 5,\n",
       "    'release': '2021.10.14'},\n",
       "   'value': {'ival': 1}},\n",
       "  {'urn': {'label': 'Compound Complexity',\n",
       "    'datatype': 7,\n",
       "    'implementation': 'E_COMPLEXITY',\n",
       "    'version': '3.4.8.18',\n",
       "    'software': 'Cactvs',\n",
       "    'source': 'Xemistry GmbH',\n",
       "    'release': '2021.10.14'},\n",
       "   'value': {'fval': 25.7}},\n",
       "  {'urn': {'label': 'Count',\n",
       "    'name': 'Hydrogen Bond Acceptor',\n",
       "    'datatype': 5,\n",
       "    'implementation': 'E_NHACCEPTORS',\n",
       "    'version': '3.4.8.18',\n",
       "    'software': 'Cactvs',\n",
       "    'source': 'Xemistry GmbH',\n",
       "    'release': '2021.10.14'},\n",
       "   'value': {'ival': 1}},\n",
       "  {'urn': {'label': 'Count',\n",
       "    'name': 'Hydrogen Bond Donor',\n",
       "    'datatype': 5,\n",
       "    'implementation': 'E_NHDONORS',\n",
       "    'version': '3.4.8.18',\n",
       "    'software': 'Cactvs',\n",
       "    'source': 'Xemistry GmbH',\n",
       "    'release': '2021.10.14'},\n",
       "   'value': {'ival': 0}},\n",
       "  {'urn': {'label': 'Count',\n",
       "    'name': 'Rotatable Bond',\n",
       "    'datatype': 5,\n",
       "    'implementation': 'E_NROTBONDS',\n",
       "    'version': '3.4.8.18',\n",
       "    'software': 'Cactvs',\n",
       "    'source': 'Xemistry GmbH',\n",
       "    'release': '2021.10.14'},\n",
       "   'value': {'ival': 3}},\n",
       "  {'urn': {'label': 'Fingerprint',\n",
       "    'name': 'SubStructure Keys',\n",
       "    'datatype': 16,\n",
       "    'parameters': 'extended 2',\n",
       "    'implementation': 'E_SCREEN',\n",
       "    'version': '3.4.8.18',\n",
       "    'software': 'Cactvs',\n",
       "    'source': 'Xemistry GmbH',\n",
       "    'release': '2021.10.14'},\n",
       "   'value': {'binary': '00000371C0620000000000000000000000000000000000000000000000000000000000000000001C00000000000000C100040200030000000000000000000000000000000000000800000000000000000000000000008000000000000000000000000000000000000000000000000000000000'}},\n",
       "  {'urn': {'label': 'IUPAC Name',\n",
       "    'name': 'Allowed',\n",
       "    'datatype': 1,\n",
       "    'version': '2.7.0',\n",
       "    'software': 'Lexichem TK',\n",
       "    'source': 'OpenEye Scientific Software',\n",
       "    'release': '2021.10.14'},\n",
       "   'value': {'sval': 'N,N-diethylethanamine'}},\n",
       "  {'urn': {'label': 'IUPAC Name',\n",
       "    'name': 'CAS-like Style',\n",
       "    'datatype': 1,\n",
       "    'version': '2.7.0',\n",
       "    'software': 'Lexichem TK',\n",
       "    'source': 'OpenEye Scientific Software',\n",
       "    'release': '2021.10.14'},\n",
       "   'value': {'sval': 'N,N-diethylethanamine'}},\n",
       "  {'urn': {'label': 'IUPAC Name',\n",
       "    'name': 'Markup',\n",
       "    'datatype': 1,\n",
       "    'version': '2.7.0',\n",
       "    'software': 'Lexichem TK',\n",
       "    'source': 'OpenEye Scientific Software',\n",
       "    'release': '2021.10.14'},\n",
       "   'value': {'sval': '<I>N</I>,<I>N</I>-diethylethanamine'}},\n",
       "  {'urn': {'label': 'IUPAC Name',\n",
       "    'name': 'Preferred',\n",
       "    'datatype': 1,\n",
       "    'version': '2.7.0',\n",
       "    'software': 'Lexichem TK',\n",
       "    'source': 'OpenEye Scientific Software',\n",
       "    'release': '2021.10.14'},\n",
       "   'value': {'sval': 'N,N-diethylethanamine'}},\n",
       "  {'urn': {'label': 'IUPAC Name',\n",
       "    'name': 'Systematic',\n",
       "    'datatype': 1,\n",
       "    'version': '2.7.0',\n",
       "    'software': 'Lexichem TK',\n",
       "    'source': 'OpenEye Scientific Software',\n",
       "    'release': '2021.10.14'},\n",
       "   'value': {'sval': 'N,N-diethylethanamine'}},\n",
       "  {'urn': {'label': 'IUPAC Name',\n",
       "    'name': 'Traditional',\n",
       "    'datatype': 1,\n",
       "    'version': '2.7.0',\n",
       "    'software': 'Lexichem TK',\n",
       "    'source': 'OpenEye Scientific Software',\n",
       "    'release': '2021.10.14'},\n",
       "   'value': {'sval': 'triethylamine'}},\n",
       "  {'urn': {'label': 'InChI',\n",
       "    'name': 'Standard',\n",
       "    'datatype': 1,\n",
       "    'version': '1.0.6',\n",
       "    'software': 'InChI',\n",
       "    'source': 'iupac.org',\n",
       "    'release': '2021.10.14'},\n",
       "   'value': {'sval': 'InChI=1S/C6H15N/c1-4-7(5-2)6-3/h4-6H2,1-3H3'}},\n",
       "  {'urn': {'label': 'InChIKey',\n",
       "    'name': 'Standard',\n",
       "    'datatype': 1,\n",
       "    'version': '1.0.6',\n",
       "    'software': 'InChI',\n",
       "    'source': 'iupac.org',\n",
       "    'release': '2021.10.14'},\n",
       "   'value': {'sval': 'ZMANZCXQSJIPKH-UHFFFAOYSA-N'}},\n",
       "  {'urn': {'label': 'Log P',\n",
       "    'name': 'XLogP3',\n",
       "    'datatype': 7,\n",
       "    'version': '3.0',\n",
       "    'source': 'sioc-ccbg.ac.cn',\n",
       "    'release': '2021.10.14'},\n",
       "   'value': {'fval': 1.4}},\n",
       "  {'urn': {'label': 'Mass',\n",
       "    'name': 'Exact',\n",
       "    'datatype': 1,\n",
       "    'version': '2.2',\n",
       "    'software': 'PubChem',\n",
       "    'source': 'ncbi.nlm.nih.gov',\n",
       "    'release': '2021.10.14'},\n",
       "   'value': {'sval': '101.120449483'}},\n",
       "  {'urn': {'label': 'Molecular Formula',\n",
       "    'datatype': 1,\n",
       "    'version': '2.2',\n",
       "    'software': 'PubChem',\n",
       "    'source': 'ncbi.nlm.nih.gov',\n",
       "    'release': '2021.10.14'},\n",
       "   'value': {'sval': 'C6H15N'}},\n",
       "  {'urn': {'label': 'Molecular Weight',\n",
       "    'datatype': 1,\n",
       "    'version': '2.2',\n",
       "    'software': 'PubChem',\n",
       "    'source': 'ncbi.nlm.nih.gov',\n",
       "    'release': '2021.10.14'},\n",
       "   'value': {'sval': '101.19'}},\n",
       "  {'urn': {'label': 'SMILES',\n",
       "    'name': 'Canonical',\n",
       "    'datatype': 1,\n",
       "    'version': '2.3.0',\n",
       "    'software': 'OEChem',\n",
       "    'source': 'OpenEye Scientific Software',\n",
       "    'release': '2021.10.14'},\n",
       "   'value': {'sval': 'CCN(CC)CC'}},\n",
       "  {'urn': {'label': 'SMILES',\n",
       "    'name': 'Isomeric',\n",
       "    'datatype': 1,\n",
       "    'version': '2.3.0',\n",
       "    'software': 'OEChem',\n",
       "    'source': 'OpenEye Scientific Software',\n",
       "    'release': '2021.10.14'},\n",
       "   'value': {'sval': 'CCN(CC)CC'}},\n",
       "  {'urn': {'label': 'Topological',\n",
       "    'name': 'Polar Surface Area',\n",
       "    'datatype': 7,\n",
       "    'implementation': 'E_TPSA',\n",
       "    'version': '3.4.8.18',\n",
       "    'software': 'Cactvs',\n",
       "    'source': 'Xemistry GmbH',\n",
       "    'release': '2021.10.14'},\n",
       "   'value': {'fval': 3.2}},\n",
       "  {'urn': {'label': 'Weight',\n",
       "    'name': 'MonoIsotopic',\n",
       "    'datatype': 1,\n",
       "    'version': '2.2',\n",
       "    'software': 'PubChem',\n",
       "    'source': 'ncbi.nlm.nih.gov',\n",
       "    'release': '2021.10.14'},\n",
       "   'value': {'sval': '101.120449483'}}],\n",
       " 'count': {'heavy_atom': 7,\n",
       "  'atom_chiral': 0,\n",
       "  'atom_chiral_def': 0,\n",
       "  'atom_chiral_undef': 0,\n",
       "  'bond_chiral': 0,\n",
       "  'bond_chiral_def': 0,\n",
       "  'bond_chiral_undef': 0,\n",
       "  'isotope_atom': 0,\n",
       "  'covalent_unit': 1,\n",
       "  'tautomers': -1}}"
      ]
     },
     "execution_count": 71,
     "metadata": {},
     "output_type": "execute_result"
    }
   ],
   "source": [
    "comps[0].record"
   ]
  },
  {
   "cell_type": "code",
   "execution_count": 28,
   "id": "5a8c2333",
   "metadata": {
    "ExecuteTime": {
     "end_time": "2022-09-22T10:40:41.016428Z",
     "start_time": "2022-09-22T10:40:41.011137Z"
    },
    "scrolled": true
   },
   "outputs": [
    {
     "data": {
      "text/plain": [
       "['__class__',\n",
       " '__delattr__',\n",
       " '__dict__',\n",
       " '__dir__',\n",
       " '__doc__',\n",
       " '__eq__',\n",
       " '__format__',\n",
       " '__ge__',\n",
       " '__getattribute__',\n",
       " '__gt__',\n",
       " '__hash__',\n",
       " '__init__',\n",
       " '__init_subclass__',\n",
       " '__le__',\n",
       " '__lt__',\n",
       " '__module__',\n",
       " '__ne__',\n",
       " '__new__',\n",
       " '__reduce__',\n",
       " '__reduce_ex__',\n",
       " '__repr__',\n",
       " '__setattr__',\n",
       " '__sizeof__',\n",
       " '__str__',\n",
       " '__subclasshook__',\n",
       " '__weakref__',\n",
       " 'aids',\n",
       " 'cids',\n",
       " 'deposited_compound',\n",
       " 'from_sid',\n",
       " 'record',\n",
       " 'sid',\n",
       " 'source_id',\n",
       " 'source_name',\n",
       " 'standardized_cid',\n",
       " 'standardized_compound',\n",
       " 'synonyms',\n",
       " 'to_dict',\n",
       " 'to_series']"
      ]
     },
     "execution_count": 28,
     "metadata": {},
     "output_type": "execute_result"
    }
   ],
   "source": [
    "dir(comps[0])"
   ]
  },
  {
   "cell_type": "code",
   "execution_count": 33,
   "id": "1d2ccd6e",
   "metadata": {
    "ExecuteTime": {
     "end_time": "2022-09-22T10:41:27.737221Z",
     "start_time": "2022-09-22T10:41:27.731424Z"
    }
   },
   "outputs": [
    {
     "data": {
      "text/plain": [
       "<bound method Substance.to_dict of Substance(589721)>"
      ]
     },
     "execution_count": 33,
     "metadata": {},
     "output_type": "execute_result"
    }
   ],
   "source": [
    "comps[0].to_dict"
   ]
  },
  {
   "cell_type": "markdown",
   "id": "9a0ee202",
   "metadata": {
    "ExecuteTime": {
     "end_time": "2022-09-22T11:15:51.893791Z",
     "start_time": "2022-09-22T11:15:51.890040Z"
    }
   },
   "source": [
    "### Get the data as a df"
   ]
  },
  {
   "cell_type": "code",
   "execution_count": 79,
   "id": "8bebbc15",
   "metadata": {
    "ExecuteTime": {
     "end_time": "2022-09-22T11:21:50.105650Z",
     "start_time": "2022-09-22T11:21:49.591315Z"
    }
   },
   "outputs": [],
   "source": [
    "df1 = pcp.get_compounds('triethylamine', 'benzene', 'name', as_dataframe=True)"
   ]
  },
  {
   "cell_type": "code",
   "execution_count": 80,
   "id": "e2c8bc6a",
   "metadata": {
    "ExecuteTime": {
     "end_time": "2022-09-22T11:21:51.932416Z",
     "start_time": "2022-09-22T11:21:51.900952Z"
    },
    "scrolled": true
   },
   "outputs": [
    {
     "data": {
      "text/html": [
       "<div>\n",
       "<style scoped>\n",
       "    .dataframe tbody tr th:only-of-type {\n",
       "        vertical-align: middle;\n",
       "    }\n",
       "\n",
       "    .dataframe tbody tr th {\n",
       "        vertical-align: top;\n",
       "    }\n",
       "\n",
       "    .dataframe thead th {\n",
       "        text-align: right;\n",
       "    }\n",
       "</style>\n",
       "<table border=\"1\" class=\"dataframe\">\n",
       "  <thead>\n",
       "    <tr style=\"text-align: right;\">\n",
       "      <th></th>\n",
       "      <th>atom_stereo_count</th>\n",
       "      <th>atoms</th>\n",
       "      <th>bond_stereo_count</th>\n",
       "      <th>bonds</th>\n",
       "      <th>cactvs_fingerprint</th>\n",
       "      <th>canonical_smiles</th>\n",
       "      <th>charge</th>\n",
       "      <th>complexity</th>\n",
       "      <th>conformer_id_3d</th>\n",
       "      <th>conformer_rmsd_3d</th>\n",
       "      <th>...</th>\n",
       "      <th>pharmacophore_features_3d</th>\n",
       "      <th>record</th>\n",
       "      <th>rotatable_bond_count</th>\n",
       "      <th>shape_fingerprint_3d</th>\n",
       "      <th>shape_selfoverlap_3d</th>\n",
       "      <th>tpsa</th>\n",
       "      <th>undefined_atom_stereo_count</th>\n",
       "      <th>undefined_bond_stereo_count</th>\n",
       "      <th>volume_3d</th>\n",
       "      <th>xlogp</th>\n",
       "    </tr>\n",
       "    <tr>\n",
       "      <th>cid</th>\n",
       "      <th></th>\n",
       "      <th></th>\n",
       "      <th></th>\n",
       "      <th></th>\n",
       "      <th></th>\n",
       "      <th></th>\n",
       "      <th></th>\n",
       "      <th></th>\n",
       "      <th></th>\n",
       "      <th></th>\n",
       "      <th></th>\n",
       "      <th></th>\n",
       "      <th></th>\n",
       "      <th></th>\n",
       "      <th></th>\n",
       "      <th></th>\n",
       "      <th></th>\n",
       "      <th></th>\n",
       "      <th></th>\n",
       "      <th></th>\n",
       "      <th></th>\n",
       "    </tr>\n",
       "  </thead>\n",
       "  <tbody>\n",
       "    <tr>\n",
       "      <th>241</th>\n",
       "      <td>0</td>\n",
       "      <td>[{'aid': 1, 'number': 6, 'element': 'C', 'y': ...</td>\n",
       "      <td>0</td>\n",
       "      <td>[{'aid1': 1, 'aid2': 2, 'order': 2, 'style': 8...</td>\n",
       "      <td>1000000001100000000000000000000000000000000000...</td>\n",
       "      <td>C1=CC=CC=C1</td>\n",
       "      <td>0</td>\n",
       "      <td>15.5</td>\n",
       "      <td>None</td>\n",
       "      <td>None</td>\n",
       "      <td>...</td>\n",
       "      <td>None</td>\n",
       "      <td>{'id': {'id': {'cid': 241}}, 'atoms': {'aid': ...</td>\n",
       "      <td>0</td>\n",
       "      <td>None</td>\n",
       "      <td>None</td>\n",
       "      <td>0</td>\n",
       "      <td>0</td>\n",
       "      <td>0</td>\n",
       "      <td>None</td>\n",
       "      <td>2.1</td>\n",
       "    </tr>\n",
       "  </tbody>\n",
       "</table>\n",
       "<p>1 rows × 43 columns</p>\n",
       "</div>"
      ],
      "text/plain": [
       "     atom_stereo_count                                              atoms  \\\n",
       "cid                                                                         \n",
       "241                  0  [{'aid': 1, 'number': 6, 'element': 'C', 'y': ...   \n",
       "\n",
       "     bond_stereo_count                                              bonds  \\\n",
       "cid                                                                         \n",
       "241                  0  [{'aid1': 1, 'aid2': 2, 'order': 2, 'style': 8...   \n",
       "\n",
       "                                    cactvs_fingerprint canonical_smiles  \\\n",
       "cid                                                                       \n",
       "241  1000000001100000000000000000000000000000000000...      C1=CC=CC=C1   \n",
       "\n",
       "     charge  complexity conformer_id_3d conformer_rmsd_3d  ...  \\\n",
       "cid                                                        ...   \n",
       "241       0        15.5            None              None  ...   \n",
       "\n",
       "    pharmacophore_features_3d  \\\n",
       "cid                             \n",
       "241                      None   \n",
       "\n",
       "                                                record  rotatable_bond_count  \\\n",
       "cid                                                                            \n",
       "241  {'id': {'id': {'cid': 241}}, 'atoms': {'aid': ...                     0   \n",
       "\n",
       "     shape_fingerprint_3d shape_selfoverlap_3d tpsa  \\\n",
       "cid                                                   \n",
       "241                  None                 None    0   \n",
       "\n",
       "    undefined_atom_stereo_count undefined_bond_stereo_count volume_3d  xlogp  \n",
       "cid                                                                           \n",
       "241                           0                           0      None    2.1  \n",
       "\n",
       "[1 rows x 43 columns]"
      ]
     },
     "execution_count": 80,
     "metadata": {},
     "output_type": "execute_result"
    }
   ],
   "source": [
    "df1"
   ]
  },
  {
   "cell_type": "markdown",
   "id": "e06b3f9c",
   "metadata": {
    "ExecuteTime": {
     "end_time": "2022-09-22T12:26:01.697973Z",
     "start_time": "2022-09-22T12:26:01.693764Z"
    }
   },
   "source": [
    "### return the url"
   ]
  },
  {
   "cell_type": "code",
   "execution_count": 82,
   "id": "b8c47ccc",
   "metadata": {
    "ExecuteTime": {
     "end_time": "2022-09-22T12:28:05.634334Z",
     "start_time": "2022-09-22T12:28:05.630065Z"
    }
   },
   "outputs": [],
   "source": [
    "def get_url(cid):\n",
    "    \n",
    "    url = f'https://pubchem.ncbi.nlm.nih.gov/rest/pug_view/data/compound/{cid}/JSON/?response_type=display'\n",
    "    \n",
    "    return url"
   ]
  },
  {
   "cell_type": "code",
   "execution_count": 83,
   "id": "a0608bc5",
   "metadata": {
    "ExecuteTime": {
     "end_time": "2022-09-22T12:31:03.229808Z",
     "start_time": "2022-09-22T12:31:03.225181Z"
    }
   },
   "outputs": [],
   "source": [
    "def get_cid(identifier, id_type):\n",
    "    \n",
    "    assert id_type in ['name', 'smiles', 'sdf', 'inchi', 'inchikey', 'formula', 'cid']\n",
    "    \n",
    "    if id_type == 'cid':\n",
    "        return identifier\n",
    "    \n",
    "    else:\n",
    "        cid = pcp.get_cids(identifier, id_type)\n",
    "        return cid \n"
   ]
  },
  {
   "cell_type": "code",
   "execution_count": 85,
   "id": "044654e3",
   "metadata": {
    "ExecuteTime": {
     "end_time": "2022-09-22T12:34:47.113964Z",
     "start_time": "2022-09-22T12:34:46.612473Z"
    }
   },
   "outputs": [
    {
     "data": {
      "text/plain": [
       "[8471]"
      ]
     },
     "execution_count": 85,
     "metadata": {},
     "output_type": "execute_result"
    }
   ],
   "source": [
    "get_cid('triethylamine', 'name')"
   ]
  },
  {
   "cell_type": "code",
   "execution_count": 88,
   "id": "00e4f83f",
   "metadata": {
    "ExecuteTime": {
     "end_time": "2022-09-22T12:36:01.022322Z",
     "start_time": "2022-09-22T12:35:57.719823Z"
    }
   },
   "outputs": [
    {
     "data": {
      "text/plain": [
       "'https://pubchem.ncbi.nlm.nih.gov/rest/pug_view/data/compound/962/JSON/?response_type=display'"
      ]
     },
     "execution_count": 88,
     "metadata": {},
     "output_type": "execute_result"
    }
   ],
   "source": [
    "get_url(get_cid('water', 'name')[0])"
   ]
  },
  {
   "cell_type": "code",
   "execution_count": null,
   "id": "b2502615",
   "metadata": {},
   "outputs": [],
   "source": []
  }
 ],
 "metadata": {
  "kernelspec": {
   "display_name": "dswigh_default",
   "language": "python",
   "name": "dswigh_default"
  },
  "language_info": {
   "codemirror_mode": {
    "name": "ipython",
    "version": 3
   },
   "file_extension": ".py",
   "mimetype": "text/x-python",
   "name": "python",
   "nbconvert_exporter": "python",
   "pygments_lexer": "ipython3",
   "version": "3.9.10"
  },
  "toc": {
   "base_numbering": 1,
   "nav_menu": {},
   "number_sections": true,
   "sideBar": true,
   "skip_h1_title": false,
   "title_cell": "Table of Contents",
   "title_sidebar": "Contents",
   "toc_cell": true,
   "toc_position": {},
   "toc_section_display": true,
   "toc_window_display": true
  },
  "varInspector": {
   "cols": {
    "lenName": 16,
    "lenType": 16,
    "lenVar": 40
   },
   "kernels_config": {
    "python": {
     "delete_cmd_postfix": "",
     "delete_cmd_prefix": "del ",
     "library": "var_list.py",
     "varRefreshCmd": "print(var_dic_list())"
    },
    "r": {
     "delete_cmd_postfix": ") ",
     "delete_cmd_prefix": "rm(",
     "library": "var_list.r",
     "varRefreshCmd": "cat(var_dic_list()) "
    }
   },
   "types_to_exclude": [
    "module",
    "function",
    "builtin_function_or_method",
    "instance",
    "_Feature"
   ],
   "window_display": false
  }
 },
 "nbformat": 4,
 "nbformat_minor": 5
}
